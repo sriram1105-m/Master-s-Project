{
  "nbformat": 4,
  "nbformat_minor": 0,
  "metadata": {
    "colab": {
      "name": "project_new_data.ipynb",
      "provenance": []
    },
    "kernelspec": {
      "name": "python3",
      "display_name": "Python 3"
    },
    "language_info": {
      "name": "python"
    },
    "accelerator": "GPU"
  },
  "cells": [
    {
      "cell_type": "code",
      "metadata": {
        "id": "Mjw0cl2Lf4cB"
      },
      "source": [
        "# Importing the required libraries\n",
        "\n",
        "import numpy as np\n",
        "import pandas as pd\n",
        "import matplotlib.pyplot as plt\n",
        "import seaborn as sns\n",
        "\n",
        "import os\n",
        "import cv2\n",
        "from random import randint\n",
        "from IPython.display import SVG\n",
        "import matplotlib.gridspec as gridspec\n",
        "import PIL\n",
        "from PIL import Image\n",
        "import random\n",
        "import matplotlib.image as mpimg\n",
        "import keras\n",
        "import glob\n",
        "\n",
        "%matplotlib inline"
      ],
      "execution_count": 1,
      "outputs": []
    },
    {
      "cell_type": "code",
      "metadata": {
        "id": "auxqlbEuf8Mi"
      },
      "source": [
        "# Importing the required libraries\n",
        "\n",
        "from os import listdir\n",
        "from os.path import join"
      ],
      "execution_count": 2,
      "outputs": []
    },
    {
      "cell_type": "code",
      "metadata": {
        "id": "p4Pv0VFpf8PS"
      },
      "source": [
        "# Importing the required libraries\n",
        "\n",
        "from os import listdir\n",
        "from numpy import array\n",
        "from keras.preprocessing.text import Tokenizer, one_hot\n",
        "from keras.preprocessing.sequence import pad_sequences\n",
        "from keras.models import Model\n",
        "from tensorflow.keras.utils import to_categorical\n",
        "from keras.layers import Embedding, TimeDistributed, RepeatVector, LSTM, concatenate , Input, Reshape, Dense, Flatten, GRU, Bidirectional, Dropout\n",
        "from keras.preprocessing.image import array_to_img, img_to_array, load_img\n",
        "from keras.applications.densenet import DenseNet201, preprocess_input\n",
        "import numpy as np"
      ],
      "execution_count": 3,
      "outputs": []
    },
    {
      "cell_type": "code",
      "metadata": {
        "id": "jeLf1ppof8R8"
      },
      "source": [
        "# Load the images and preprocess them for Densenet201\n",
        "\n",
        "images = []\n",
        "files = listdir('/content/drive/MyDrive/dataset_new1.3/gui/')\n",
        "files.sort()\n",
        "for filename in files:\n",
        "    images.append(img_to_array(load_img('/content/drive/MyDrive/dataset_new1.3/gui/'+filename, target_size=(299, 299))))\n",
        "images = np.array(images, dtype=float)\n",
        "images = preprocess_input(images)"
      ],
      "execution_count": 4,
      "outputs": []
    },
    {
      "cell_type": "code",
      "metadata": {
        "id": "-21z0ygBf8Zv",
        "colab": {
          "base_uri": "https://localhost:8080/"
        },
        "outputId": "7fe763e9-4dfb-4fbd-8024-c9b47217d01d"
      },
      "source": [
        "# Run the images through DenseNet201 model\n",
        "densenet = DenseNet201(weights='imagenet', include_top=False)\n",
        "ext_features = densenet.predict(images)"
      ],
      "execution_count": 5,
      "outputs": [
        {
          "output_type": "stream",
          "text": [
            "Downloading data from https://storage.googleapis.com/tensorflow/keras-applications/densenet/densenet201_weights_tf_dim_ordering_tf_kernels_notop.h5\n",
            "74842112/74836368 [==============================] - 1s 0us/step\n",
            "74850304/74836368 [==============================] - 1s 0us/step\n"
          ],
          "name": "stdout"
        }
      ]
    },
    {
      "cell_type": "code",
      "metadata": {
        "colab": {
          "base_uri": "https://localhost:8080/"
        },
        "id": "V7nDnH8Hf8cY",
        "outputId": "8fa3f45e-1dd5-4050-9d83-24105da749ea"
      },
      "source": [
        "# Printing the extracted feature shapes \n",
        "\n",
        "ext_features.shape"
      ],
      "execution_count": 6,
      "outputs": [
        {
          "output_type": "execute_result",
          "data": {
            "text/plain": [
              "(2, 9, 9, 1920)"
            ]
          },
          "metadata": {},
          "execution_count": 6
        }
      ]
    },
    {
      "cell_type": "code",
      "metadata": {
        "id": "GUda_J8af8e-"
      },
      "source": [
        "# This piece of code is referred from the website \"https://www.programmersought.com/article/3918650197/\"\n",
        "\n",
        "\n",
        "maximum_caption_length = 100\n",
        "token = Tokenizer(filters='', split=\" \", lower=False)\n",
        "\n",
        "# Function to read the document\n",
        "def read_file(filename):\n",
        "    file = open(filename, 'r')\n",
        "    text = file.read()\n",
        "    file.close()\n",
        "    return text\n",
        "\n",
        "# Loading the HTML files\n",
        "X = []\n",
        "all_files = listdir('/content/drive/MyDrive/dataset_new1.3/html/')\n",
        "all_files.sort()\n",
        "for filename in all_files:\n",
        "    X.append(read_file('/content/drive/MyDrive/dataset_new1.3/html/'+filename))\n",
        "\n",
        "# Creating the vocabulary from html files\n",
        "token.fit_on_texts(X)\n",
        "\n",
        "# Add +1 to leave space for empty words\n",
        "vocab_size = len(token.word_index) + 1\n",
        "\n",
        "sequences = token.texts_to_sequences(X)\n",
        "max_length = max(len(s) for s in sequences)\n",
        "\n",
        "X, y, image_data = list(), list(), list()\n",
        "for img_no, seq in enumerate(sequences):\n",
        "    for i in range(1, len(seq)):\n",
        "        in_seq, out_seq = seq[:i], seq[i]\n",
        "        # Padding the sentences, if the sentence is short\n",
        "        in_seq = pad_sequences([in_seq], maxlen=max_length)[0]\n",
        "        out_seq = to_categorical([out_seq], num_classes=vocab_size)[0]\n",
        "        image_data.append(ext_features[img_no])\n",
        "        X.append(in_seq[-100:])\n",
        "        y.append(out_seq)\n",
        "\n",
        "X, y, image_data = np.array(X), np.array(y), np.array(image_data)"
      ],
      "execution_count": 8,
      "outputs": []
    },
    {
      "cell_type": "code",
      "metadata": {
        "id": "8y0RZhxjf8h3"
      },
      "source": [
        "# Building the model\n",
        "# Importing the regularizers\n",
        "from keras.regularizers import l2, l1\n",
        "\n",
        "# Create the encoder\n",
        "image = Input(shape=(9, 9, 1920,))\n",
        "image_flatten = Flatten()(image)\n",
        "image_flatten = Dense(128, activation='relu')(image_flatten)\n",
        "rep_vec = RepeatVector(maximum_caption_length)(image_flatten)\n",
        "\n",
        "language_input = Input(shape=(maximum_caption_length,))\n",
        "language = Embedding(vocab_size, 200, input_length=maximum_caption_length)(language_input)\n",
        "language = Bidirectional(LSTM(64, kernel_regularizer = l2(0.01), return_sequences=True))(language)\n",
        "language = Dropout(0.3)(language)\n",
        "language = Bidirectional(LSTM(64, kernel_regularizer = l2(0.01), return_sequences = True))(language)\n",
        "language = Dropout(0.3)(language)\n",
        "language = Bidirectional(LSTM(64, return_sequences=True))(language)\n",
        "language = TimeDistributed(Dense(32, activation='relu'))(language)\n",
        "\n",
        "# Create the decoder\n",
        "decoder = concatenate([rep_vec, language])\n",
        "decoder = Bidirectional(LSTM(64, kernel_regularizer = l2(0.01), return_sequences=False))(decoder)\n",
        "decoder_output = Dense(vocab_size, activation='softmax')(decoder)"
      ],
      "execution_count": 10,
      "outputs": []
    },
    {
      "cell_type": "code",
      "metadata": {
        "colab": {
          "base_uri": "https://localhost:8080/"
        },
        "id": "veD4q_nPf8kU",
        "outputId": "6166a510-78ca-4eb7-daa6-1a61a7b485b4"
      },
      "source": [
        "# Compile the model\n",
        "import tensorflow \n",
        "from tensorflow.keras.optimizers import Adam\n",
        "\n",
        "model = Model(inputs=[image, language_input], outputs=decoder_output)\n",
        "model.compile(loss='categorical_crossentropy', optimizer=tensorflow.keras.optimizers.Adam(lr = 0.001, decay = 0.001))"
      ],
      "execution_count": 12,
      "outputs": [
        {
          "output_type": "stream",
          "text": [
            "/usr/local/lib/python3.7/dist-packages/keras/optimizer_v2/optimizer_v2.py:356: UserWarning: The `lr` argument is deprecated, use `learning_rate` instead.\n",
            "  \"The `lr` argument is deprecated, use `learning_rate` instead.\")\n"
          ],
          "name": "stderr"
        }
      ]
    },
    {
      "cell_type": "code",
      "metadata": {
        "colab": {
          "base_uri": "https://localhost:8080/"
        },
        "id": "4EXl7Jpvf8my",
        "outputId": "d1ac53a8-03ce-450c-f693-eeac91fcd33f"
      },
      "source": [
        "# Train the neural network\n",
        "history = model.fit([image_data, X], y, batch_size=64, shuffle=False, epochs=150, validation_split = 0.2)"
      ],
      "execution_count": 14,
      "outputs": [
        {
          "output_type": "stream",
          "text": [
            "Epoch 1/150\n",
            "103/103 [==============================] - 114s 1s/step - loss: 10.3435 - val_loss: 7.9447\n",
            "Epoch 2/150\n",
            "103/103 [==============================] - 112s 1s/step - loss: 7.3759 - val_loss: 6.6738\n",
            "Epoch 3/150\n",
            "103/103 [==============================] - 112s 1s/step - loss: 7.2764 - val_loss: 6.5172\n",
            "Epoch 4/150\n",
            "103/103 [==============================] - 113s 1s/step - loss: 7.0889 - val_loss: 6.0297\n",
            "Epoch 5/150\n",
            "103/103 [==============================] - 113s 1s/step - loss: 6.9111 - val_loss: 6.0045\n",
            "Epoch 6/150\n",
            "103/103 [==============================] - 113s 1s/step - loss: 6.9169 - val_loss: 6.0794\n",
            "Epoch 7/150\n",
            "103/103 [==============================] - 113s 1s/step - loss: 6.8600 - val_loss: 6.1524\n",
            "Epoch 8/150\n",
            "103/103 [==============================] - 114s 1s/step - loss: 6.8232 - val_loss: 5.9418\n",
            "Epoch 9/150\n",
            "103/103 [==============================] - 114s 1s/step - loss: 6.8069 - val_loss: 6.0442\n",
            "Epoch 10/150\n",
            "103/103 [==============================] - 113s 1s/step - loss: 6.7746 - val_loss: 6.5657\n",
            "Epoch 11/150\n",
            "103/103 [==============================] - 113s 1s/step - loss: 6.8098 - val_loss: 6.1179\n",
            "Epoch 12/150\n",
            "103/103 [==============================] - 113s 1s/step - loss: 6.8168 - val_loss: 6.1065\n",
            "Epoch 13/150\n",
            "103/103 [==============================] - 112s 1s/step - loss: 6.7940 - val_loss: 5.8242\n",
            "Epoch 14/150\n",
            "103/103 [==============================] - 113s 1s/step - loss: 6.7834 - val_loss: 5.8583\n",
            "Epoch 15/150\n",
            "103/103 [==============================] - 113s 1s/step - loss: 6.8446 - val_loss: 6.0133\n",
            "Epoch 16/150\n",
            "103/103 [==============================] - 113s 1s/step - loss: 6.7756 - val_loss: 5.9955\n",
            "Epoch 17/150\n",
            "103/103 [==============================] - 115s 1s/step - loss: 6.7555 - val_loss: 5.9464\n",
            "Epoch 18/150\n",
            "103/103 [==============================] - 116s 1s/step - loss: 6.7611 - val_loss: 6.0209\n",
            "Epoch 19/150\n",
            "103/103 [==============================] - 122s 1s/step - loss: 6.7669 - val_loss: 5.9984\n",
            "Epoch 20/150\n",
            "103/103 [==============================] - 117s 1s/step - loss: 6.7683 - val_loss: 5.9134\n",
            "Epoch 21/150\n",
            "103/103 [==============================] - 114s 1s/step - loss: 6.7435 - val_loss: 5.9227\n",
            "Epoch 22/150\n",
            "103/103 [==============================] - 112s 1s/step - loss: 6.8062 - val_loss: 5.8885\n",
            "Epoch 23/150\n",
            "103/103 [==============================] - 112s 1s/step - loss: 6.7788 - val_loss: 5.8035\n",
            "Epoch 24/150\n",
            "103/103 [==============================] - 114s 1s/step - loss: 6.7813 - val_loss: 6.0356\n",
            "Epoch 25/150\n",
            "103/103 [==============================] - 113s 1s/step - loss: 6.7740 - val_loss: 6.0170\n",
            "Epoch 26/150\n",
            "103/103 [==============================] - 113s 1s/step - loss: 6.7376 - val_loss: 5.9218\n",
            "Epoch 27/150\n",
            "103/103 [==============================] - 111s 1s/step - loss: 6.7231 - val_loss: 5.9349\n",
            "Epoch 28/150\n",
            "103/103 [==============================] - 112s 1s/step - loss: 6.7194 - val_loss: 6.0198\n",
            "Epoch 29/150\n",
            "103/103 [==============================] - 111s 1s/step - loss: 6.7271 - val_loss: 6.0735\n",
            "Epoch 30/150\n",
            "103/103 [==============================] - 111s 1s/step - loss: 6.7079 - val_loss: 5.9107\n",
            "Epoch 31/150\n",
            "103/103 [==============================] - 111s 1s/step - loss: 6.7055 - val_loss: 5.9769\n",
            "Epoch 32/150\n",
            "103/103 [==============================] - 112s 1s/step - loss: 6.6899 - val_loss: 5.9358\n",
            "Epoch 33/150\n",
            "103/103 [==============================] - 112s 1s/step - loss: 6.6948 - val_loss: 6.0292\n",
            "Epoch 34/150\n",
            "103/103 [==============================] - 112s 1s/step - loss: 6.7041 - val_loss: 6.0720\n",
            "Epoch 35/150\n",
            "103/103 [==============================] - 113s 1s/step - loss: 6.7116 - val_loss: 6.0623\n",
            "Epoch 36/150\n",
            "103/103 [==============================] - 112s 1s/step - loss: 6.7261 - val_loss: 6.1087\n",
            "Epoch 37/150\n",
            "103/103 [==============================] - 111s 1s/step - loss: 6.7160 - val_loss: 6.1159\n",
            "Epoch 38/150\n",
            "103/103 [==============================] - 111s 1s/step - loss: 6.6810 - val_loss: 6.1168\n",
            "Epoch 39/150\n",
            "103/103 [==============================] - 111s 1s/step - loss: 6.7512 - val_loss: 6.0551\n",
            "Epoch 40/150\n",
            "103/103 [==============================] - 112s 1s/step - loss: 6.6842 - val_loss: 6.1964\n",
            "Epoch 41/150\n",
            "103/103 [==============================] - 112s 1s/step - loss: 6.6779 - val_loss: 6.1890\n",
            "Epoch 42/150\n",
            "103/103 [==============================] - 113s 1s/step - loss: 6.6834 - val_loss: 6.2700\n",
            "Epoch 43/150\n",
            "103/103 [==============================] - 113s 1s/step - loss: 6.6604 - val_loss: 6.3109\n",
            "Epoch 44/150\n",
            "103/103 [==============================] - 112s 1s/step - loss: 6.6638 - val_loss: 6.3697\n",
            "Epoch 45/150\n",
            "103/103 [==============================] - 112s 1s/step - loss: 6.6655 - val_loss: 6.3563\n",
            "Epoch 46/150\n",
            "103/103 [==============================] - 112s 1s/step - loss: 6.6515 - val_loss: 6.4297\n",
            "Epoch 47/150\n",
            "103/103 [==============================] - 112s 1s/step - loss: 6.6585 - val_loss: 6.5299\n",
            "Epoch 48/150\n",
            "103/103 [==============================] - 111s 1s/step - loss: 6.6711 - val_loss: 6.4989\n",
            "Epoch 49/150\n",
            "103/103 [==============================] - 112s 1s/step - loss: 6.6467 - val_loss: 6.5753\n",
            "Epoch 50/150\n",
            "103/103 [==============================] - 112s 1s/step - loss: 6.6453 - val_loss: 6.6879\n",
            "Epoch 51/150\n",
            "103/103 [==============================] - 112s 1s/step - loss: 6.7172 - val_loss: 6.5525\n",
            "Epoch 52/150\n",
            "103/103 [==============================] - 111s 1s/step - loss: 6.6501 - val_loss: 6.6328\n",
            "Epoch 53/150\n",
            "103/103 [==============================] - 111s 1s/step - loss: 6.6466 - val_loss: 6.5034\n",
            "Epoch 54/150\n",
            "103/103 [==============================] - 111s 1s/step - loss: 6.6376 - val_loss: 6.3975\n",
            "Epoch 55/150\n",
            "103/103 [==============================] - 111s 1s/step - loss: 6.6282 - val_loss: 6.5146\n",
            "Epoch 56/150\n",
            "103/103 [==============================] - 111s 1s/step - loss: 6.6518 - val_loss: 6.6605\n",
            "Epoch 57/150\n",
            "103/103 [==============================] - 111s 1s/step - loss: 6.6275 - val_loss: 6.6428\n",
            "Epoch 58/150\n",
            "103/103 [==============================] - 111s 1s/step - loss: 6.6373 - val_loss: 6.7008\n",
            "Epoch 59/150\n",
            "103/103 [==============================] - 111s 1s/step - loss: 6.6261 - val_loss: 6.7554\n",
            "Epoch 60/150\n",
            "103/103 [==============================] - 111s 1s/step - loss: 6.5957 - val_loss: 6.6465\n",
            "Epoch 61/150\n",
            "103/103 [==============================] - 112s 1s/step - loss: 6.6204 - val_loss: 6.6394\n",
            "Epoch 62/150\n",
            "103/103 [==============================] - 111s 1s/step - loss: 6.6237 - val_loss: 6.7638\n",
            "Epoch 63/150\n",
            "103/103 [==============================] - 111s 1s/step - loss: 6.6423 - val_loss: 6.6265\n",
            "Epoch 64/150\n",
            "103/103 [==============================] - 112s 1s/step - loss: 6.6009 - val_loss: 6.6985\n",
            "Epoch 65/150\n",
            "103/103 [==============================] - 114s 1s/step - loss: 6.5985 - val_loss: 6.8400\n",
            "Epoch 66/150\n",
            "103/103 [==============================] - 114s 1s/step - loss: 6.5978 - val_loss: 7.1592\n",
            "Epoch 67/150\n",
            "103/103 [==============================] - 115s 1s/step - loss: 6.5942 - val_loss: 6.9507\n",
            "Epoch 68/150\n",
            "103/103 [==============================] - 116s 1s/step - loss: 6.6327 - val_loss: 7.1590\n",
            "Epoch 69/150\n",
            "103/103 [==============================] - 115s 1s/step - loss: 6.6265 - val_loss: 7.0604\n",
            "Epoch 70/150\n",
            "103/103 [==============================] - 113s 1s/step - loss: 6.5862 - val_loss: 7.0769\n",
            "Epoch 71/150\n",
            "103/103 [==============================] - 113s 1s/step - loss: 6.5793 - val_loss: 7.0810\n",
            "Epoch 72/150\n",
            "103/103 [==============================] - 112s 1s/step - loss: 6.5805 - val_loss: 7.0585\n",
            "Epoch 73/150\n",
            "103/103 [==============================] - 115s 1s/step - loss: 6.5980 - val_loss: 7.2082\n",
            "Epoch 74/150\n",
            "103/103 [==============================] - 115s 1s/step - loss: 6.5874 - val_loss: 7.4181\n",
            "Epoch 75/150\n",
            "103/103 [==============================] - 115s 1s/step - loss: 6.8327 - val_loss: 7.6756\n",
            "Epoch 76/150\n",
            "103/103 [==============================] - 115s 1s/step - loss: 6.7837 - val_loss: 7.1191\n",
            "Epoch 77/150\n",
            "103/103 [==============================] - 114s 1s/step - loss: 6.7126 - val_loss: 7.0071\n",
            "Epoch 78/150\n",
            "103/103 [==============================] - 112s 1s/step - loss: 6.6972 - val_loss: 7.0077\n",
            "Epoch 79/150\n",
            "103/103 [==============================] - 112s 1s/step - loss: 6.6924 - val_loss: 7.0375\n",
            "Epoch 80/150\n",
            "103/103 [==============================] - 112s 1s/step - loss: 6.7046 - val_loss: 7.1138\n",
            "Epoch 81/150\n",
            "103/103 [==============================] - 112s 1s/step - loss: 6.6812 - val_loss: 7.0672\n",
            "Epoch 82/150\n",
            "103/103 [==============================] - 114s 1s/step - loss: 6.6660 - val_loss: 7.0665\n",
            "Epoch 83/150\n",
            "103/103 [==============================] - 113s 1s/step - loss: 6.7295 - val_loss: 7.1080\n",
            "Epoch 84/150\n",
            "103/103 [==============================] - 114s 1s/step - loss: 6.7469 - val_loss: 7.0962\n",
            "Epoch 85/150\n",
            "103/103 [==============================] - 113s 1s/step - loss: 6.7348 - val_loss: 7.0835\n",
            "Epoch 86/150\n",
            "103/103 [==============================] - 113s 1s/step - loss: 6.7412 - val_loss: 7.2561\n",
            "Epoch 87/150\n",
            "103/103 [==============================] - 113s 1s/step - loss: 6.7493 - val_loss: 7.1797\n",
            "Epoch 88/150\n",
            "103/103 [==============================] - 112s 1s/step - loss: 6.6520 - val_loss: 7.0681\n",
            "Epoch 89/150\n",
            "103/103 [==============================] - 112s 1s/step - loss: 6.6304 - val_loss: 7.2455\n",
            "Epoch 90/150\n",
            "103/103 [==============================] - 114s 1s/step - loss: 6.6603 - val_loss: 7.2585\n",
            "Epoch 91/150\n",
            "103/103 [==============================] - 112s 1s/step - loss: 6.6399 - val_loss: 7.1994\n",
            "Epoch 92/150\n",
            "103/103 [==============================] - 112s 1s/step - loss: 6.6768 - val_loss: 6.8367\n",
            "Epoch 93/150\n",
            "103/103 [==============================] - 112s 1s/step - loss: 6.6640 - val_loss: 6.6818\n",
            "Epoch 94/150\n",
            "103/103 [==============================] - 112s 1s/step - loss: 6.6457 - val_loss: 6.7960\n",
            "Epoch 95/150\n",
            "103/103 [==============================] - 112s 1s/step - loss: 6.7083 - val_loss: 7.1071\n",
            "Epoch 96/150\n",
            "103/103 [==============================] - 112s 1s/step - loss: 6.5872 - val_loss: 7.1294\n",
            "Epoch 97/150\n",
            "103/103 [==============================] - 111s 1s/step - loss: 6.6288 - val_loss: 7.1895\n",
            "Epoch 98/150\n",
            "103/103 [==============================] - 112s 1s/step - loss: 6.6607 - val_loss: 7.4159\n",
            "Epoch 99/150\n",
            "103/103 [==============================] - 113s 1s/step - loss: 6.6898 - val_loss: 7.3184\n",
            "Epoch 100/150\n",
            "103/103 [==============================] - 114s 1s/step - loss: 6.6403 - val_loss: 7.1770\n",
            "Epoch 101/150\n",
            "103/103 [==============================] - 114s 1s/step - loss: 6.6409 - val_loss: 7.2176\n",
            "Epoch 102/150\n",
            "103/103 [==============================] - 115s 1s/step - loss: 6.6311 - val_loss: 7.0327\n",
            "Epoch 103/150\n",
            "103/103 [==============================] - 115s 1s/step - loss: 6.6191 - val_loss: 7.0209\n",
            "Epoch 104/150\n",
            "103/103 [==============================] - 115s 1s/step - loss: 6.6118 - val_loss: 7.0128\n",
            "Epoch 105/150\n",
            "103/103 [==============================] - 115s 1s/step - loss: 6.6167 - val_loss: 7.0087\n",
            "Epoch 106/150\n",
            "103/103 [==============================] - 115s 1s/step - loss: 6.6050 - val_loss: 7.0119\n",
            "Epoch 107/150\n",
            "103/103 [==============================] - 115s 1s/step - loss: 6.6602 - val_loss: 6.9977\n",
            "Epoch 108/150\n",
            "103/103 [==============================] - 115s 1s/step - loss: 6.6322 - val_loss: 6.9929\n",
            "Epoch 109/150\n",
            "103/103 [==============================] - 115s 1s/step - loss: 6.6594 - val_loss: 6.9834\n",
            "Epoch 110/150\n",
            "103/103 [==============================] - 115s 1s/step - loss: 6.6685 - val_loss: 6.9690\n",
            "Epoch 111/150\n",
            "103/103 [==============================] - 116s 1s/step - loss: 6.6520 - val_loss: 6.9563\n",
            "Epoch 112/150\n",
            "103/103 [==============================] - 116s 1s/step - loss: 6.6745 - val_loss: 6.9399\n",
            "Epoch 113/150\n",
            "103/103 [==============================] - 114s 1s/step - loss: 6.6422 - val_loss: 6.5629\n",
            "Epoch 114/150\n",
            "103/103 [==============================] - 114s 1s/step - loss: 6.6577 - val_loss: 6.5971\n",
            "Epoch 115/150\n",
            "103/103 [==============================] - 114s 1s/step - loss: 6.6734 - val_loss: 6.6247\n",
            "Epoch 116/150\n",
            "103/103 [==============================] - 117s 1s/step - loss: 6.7265 - val_loss: 6.6346\n",
            "Epoch 117/150\n",
            "103/103 [==============================] - 119s 1s/step - loss: 6.7032 - val_loss: 6.6436\n",
            "Epoch 118/150\n",
            "103/103 [==============================] - 117s 1s/step - loss: 6.6716 - val_loss: 6.7993\n",
            "Epoch 119/150\n",
            "103/103 [==============================] - 117s 1s/step - loss: 6.6768 - val_loss: 6.7985\n",
            "Epoch 120/150\n",
            "103/103 [==============================] - 117s 1s/step - loss: 6.6686 - val_loss: 6.9837\n",
            "Epoch 121/150\n",
            "103/103 [==============================] - 117s 1s/step - loss: 6.6538 - val_loss: 7.9188\n",
            "Epoch 122/150\n",
            "103/103 [==============================] - 118s 1s/step - loss: 6.9359 - val_loss: 7.5524\n",
            "Epoch 123/150\n",
            "103/103 [==============================] - 116s 1s/step - loss: 6.6973 - val_loss: 7.2224\n",
            "Epoch 124/150\n",
            "103/103 [==============================] - 115s 1s/step - loss: 6.7030 - val_loss: 7.2068\n",
            "Epoch 125/150\n",
            "103/103 [==============================] - 115s 1s/step - loss: 6.6308 - val_loss: 7.2787\n",
            "Epoch 126/150\n",
            "103/103 [==============================] - 113s 1s/step - loss: 6.6262 - val_loss: 7.2508\n",
            "Epoch 127/150\n",
            "103/103 [==============================] - 111s 1s/step - loss: 6.6123 - val_loss: 7.2447\n",
            "Epoch 128/150\n",
            "103/103 [==============================] - 111s 1s/step - loss: 6.6429 - val_loss: 7.2392\n",
            "Epoch 129/150\n",
            "103/103 [==============================] - 111s 1s/step - loss: 6.6514 - val_loss: 7.2336\n",
            "Epoch 130/150\n",
            "103/103 [==============================] - 111s 1s/step - loss: 6.6295 - val_loss: 7.5321\n",
            "Epoch 131/150\n",
            "103/103 [==============================] - 113s 1s/step - loss: 6.6801 - val_loss: 7.5168\n",
            "Epoch 132/150\n",
            "103/103 [==============================] - 113s 1s/step - loss: 6.6549 - val_loss: 7.4983\n",
            "Epoch 133/150\n",
            "103/103 [==============================] - 113s 1s/step - loss: 6.6510 - val_loss: 7.4922\n",
            "Epoch 134/150\n",
            "103/103 [==============================] - 112s 1s/step - loss: 6.6456 - val_loss: 7.4679\n",
            "Epoch 135/150\n",
            "103/103 [==============================] - 112s 1s/step - loss: 6.7083 - val_loss: 7.1375\n",
            "Epoch 136/150\n",
            "103/103 [==============================] - 113s 1s/step - loss: 6.8601 - val_loss: 7.1504\n",
            "Epoch 137/150\n",
            "103/103 [==============================] - 114s 1s/step - loss: 6.8028 - val_loss: 7.1338\n",
            "Epoch 138/150\n",
            "103/103 [==============================] - 115s 1s/step - loss: 6.6824 - val_loss: 7.1037\n",
            "Epoch 139/150\n",
            "103/103 [==============================] - 114s 1s/step - loss: 6.6750 - val_loss: 7.1168\n",
            "Epoch 140/150\n",
            "103/103 [==============================] - 115s 1s/step - loss: 6.6683 - val_loss: 7.2216\n",
            "Epoch 141/150\n",
            "103/103 [==============================] - 115s 1s/step - loss: 6.6526 - val_loss: 7.2312\n",
            "Epoch 142/150\n",
            "103/103 [==============================] - 113s 1s/step - loss: 6.6195 - val_loss: 7.3437\n",
            "Epoch 143/150\n",
            "103/103 [==============================] - 113s 1s/step - loss: 6.6039 - val_loss: 7.4224\n",
            "Epoch 144/150\n",
            "103/103 [==============================] - 116s 1s/step - loss: 6.6259 - val_loss: 6.9371\n",
            "Epoch 145/150\n",
            "103/103 [==============================] - 115s 1s/step - loss: 6.7382 - val_loss: 7.1906\n",
            "Epoch 146/150\n",
            "103/103 [==============================] - 114s 1s/step - loss: 6.6547 - val_loss: 7.3337\n",
            "Epoch 147/150\n",
            "103/103 [==============================] - 112s 1s/step - loss: 6.6420 - val_loss: 7.3137\n",
            "Epoch 148/150\n",
            "103/103 [==============================] - 112s 1s/step - loss: 6.6024 - val_loss: 7.3124\n",
            "Epoch 149/150\n",
            "103/103 [==============================] - 111s 1s/step - loss: 6.5974 - val_loss: 7.3135\n",
            "Epoch 150/150\n",
            "103/103 [==============================] - 111s 1s/step - loss: 6.6224 - val_loss: 7.3129\n"
          ],
          "name": "stdout"
        }
      ]
    },
    {
      "cell_type": "code",
      "metadata": {
        "colab": {
          "base_uri": "https://localhost:8080/",
          "height": 295
        },
        "id": "pdQu4lpyp8zr",
        "outputId": "2b8e8970-edc4-48ed-d951-5b32f886fd79"
      },
      "source": [
        "# Visualizing the loss (using l2 regularizer)\n",
        "\n",
        "plt.plot(history.history['loss'])\n",
        "plt.plot(history.history['val_loss'])\n",
        "plt.title('model loss')\n",
        "plt.ylabel('loss')\n",
        "plt.xlabel('epoch')\n",
        "plt.legend(['train', 'test'], loc='upper left')\n",
        "plt.show()"
      ],
      "execution_count": 15,
      "outputs": [
        {
          "output_type": "display_data",
          "data": {
            "image/png": "[encoded data removed]",
            "text/plain": [
              "<Figure size 432x288 with 1 Axes>"
            ]
          },
          "metadata": {
            "needs_background": "light"
          }
        }
      ]
    },
    {
      "cell_type": "code",
      "metadata": {
        "colab": {
          "base_uri": "https://localhost:8080/",
          "height": 295
        },
        "id": "RB6OiIB1f8pm",
        "outputId": "c4c44d49-f76c-4c1a-9ab6-fb3d9ac6b223"
      },
      "source": [
        "# Visualizing the loss (using l1 regularizer)\n",
        "\n",
        "plt.plot(history.history['loss'])\n",
        "plt.plot(history.history['val_loss'])\n",
        "plt.title('model loss')\n",
        "plt.ylabel('loss')\n",
        "plt.xlabel('epoch')\n",
        "plt.legend(['train', 'test'], loc='upper left')\n",
        "plt.show()"
      ],
      "execution_count": null,
      "outputs": [
        {
          "output_type": "display_data",
          "data": {
            "image/png": "[encoded data removed]",
            "text/plain": [
              "<Figure size 432x288 with 1 Axes>"
            ]
          },
          "metadata": {
            "needs_background": "light"
          }
        }
      ]
    },
    {
      "cell_type": "code",
      "metadata": {
        "id": "7nHsx6L4f8sH"
      },
      "source": [
        "# This piece of code is referred from the website \"https://www.programmersought.com/article/3918650197/\"\n",
        "# map an integer to a word\n",
        "def word_for_id(integer, tokenizer):\n",
        "    for word, index in tokenizer.word_index.items():\n",
        "        if index == integer:\n",
        "            return word\n",
        "    return None"
      ],
      "execution_count": 16,
      "outputs": []
    },
    {
      "cell_type": "code",
      "metadata": {
        "id": "OXYkal82qE56"
      },
      "source": [
        "# This piece of code is referred from the website \"https://www.programmersought.com/article/3918650197/\"\n",
        "\n",
        "# generate a description for an image\n",
        "def description(model, tokenizer, photo, maximum_length):\n",
        "    in_text = 'START'\n",
        "    for i in range(900):\n",
        "        seq = tokenizer.texts_to_sequences([in_text])[0][-100:]\n",
        "        seq = pad_sequences([seq], maxlen=maximum_length)\n",
        "        yhat = model.predict([photo,seq], verbose=0)\n",
        "        yhat = np.argmax(yhat)\n",
        "        word = word_for_id(yhat, tokenizer)\n",
        "        \n",
        "        if word is None:\n",
        "            break\n",
        "        in_text += ' ' + word\n",
        "        print(' ' + word, end='')\n",
        "        if word == 'END':\n",
        "            break\n",
        "    return"
      ],
      "execution_count": 21,
      "outputs": []
    },
    {
      "cell_type": "code",
      "metadata": {
        "colab": {
          "base_uri": "https://localhost:8080/"
        },
        "id": "N12dX9xuqE70",
        "outputId": "311c37ce-ac05-46f8-be23-a687f8020add"
      },
      "source": [
        "# Testing\n",
        "test = img_to_array(load_img('/content/drive/MyDrive/HTML/images/88.jpg', target_size=(299, 299)))\n",
        "test = np.array(test, dtype=float)\n",
        "test = preprocess_input(test)\n",
        "test_features = densenet.predict(np.array([test]))\n",
        "description(model, token, np.array(test_features), 100)"
      ],
      "execution_count": 23,
      "outputs": [
        {
          "output_type": "stream",
          "text": [
            " , , , , , , , , , , , , , , , , , , , , , , , , , , , , , , , , , , , , , , , , , , , , , , , , , , , , , , , , , , , , , , , , , , , , , , , , , , , , , , , , , , , , , , , , , , , , , , , , , , , , , , , , , , , , , , , , , , , , , , , , , , , , , , , , , , , , , , , , , , , , , , , , , , , , , , , , , , , , , , , , , , , , , , , , , , , , , , , , , , , , , , , , , , , , , , , , , , , , , , , , , , , , , , , , , , , , , , , , , , , , , , , , , , , , , , , , , , , , , , , , , , , , , , , , , , , , , , , , , , , , , , , , , , , , , , , , , , , , , , , , , , , , , , , , , , , , , , , , , , , , , , , , , , , , , , , , , , , , , , , , , , , , , , , , , , , , , , , , , , , , , , , , , , , , , , , , , , , , , , , , , , , , , , , , , , , , , , , , , , , , , , , , , , , , , , , , , , , , , , , , , , , , , , , , , , , , , , , , , , , , , , , , , , , , , , , , , , , , , , , , , , , , , , , , , , , , , , , , , , , , , , , , , , , , , , , , , , , , , , , , , , , , , , , , , , , , , , , , , , , , , , , , , , , , , , , , , , , , , , , , , , , , , , , , , , , , , , , , , , , , , , , , , , , , , , , , , , , , , , , , , , , , , , , , , , , , , , , , , , , , , , , , , , , , , , , , , , , , , , , , , , , , , , , , , , , , , , , , , , , , , , , , , , , , , , , , , , , , , , , , , , , , , , , , , , , , , , , , , , , , , , , , , , , , , , , , , , , , , , , , , , , , , , , , , , , , , , , , , , , , , , , , , , , , , , , , , , , , , , , , , , , , , , , , , , , , , , , , , , , , , , , , , , , , , , , , , , , , , , , , , , , , , , , , , , , , , , , , , , , , , , , , , , , , , , , , , , , , , , , , , , , , , , , , , , , , , , , , , , , , , , , , , , , , , , , , , , , , , , , , , , , , , , , , , , , , , , , , , , , , , , , , , , , , , , , , , , , , , , , , , , , , , , , , , , , , , , , , , , , ,"
          ],
          "name": "stdout"
        }
      ]
    },
    {
      "cell_type": "code",
      "metadata": {
        "id": "p_jbhKcEqE_q",
        "colab": {
          "base_uri": "https://localhost:8080/"
        },
        "outputId": "b6607fbf-a01e-40c6-d48f-8d560be8672b"
      },
      "source": [
        "# Saving the trained model\n",
        "\n",
        "from keras.models import model_from_json\n",
        "\n",
        "model_json = model.to_json()\n",
        "with open(\"model_densenet.json\", \"w\") as json_file:\n",
        "    json_file.write(model_json)\n",
        "# serialize weights to HDF5\n",
        "model.save_weights(\"model_densenet.h5\")\n",
        "print(\"Saved model to disk\")"
      ],
      "execution_count": 24,
      "outputs": [
        {
          "output_type": "stream",
          "text": [
            "Saved model to disk\n"
          ],
          "name": "stdout"
        }
      ]
    },
    {
      "cell_type": "code",
      "metadata": {
        "id": "icn1BXuff8vB"
      },
      "source": [
        ""
      ],
      "execution_count": null,
      "outputs": []
    }
  ]
}